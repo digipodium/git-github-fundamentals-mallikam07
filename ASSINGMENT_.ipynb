{
  "nbformat": 4,
  "nbformat_minor": 0,
  "metadata": {
    "colab": {
      "name": "ASSINGMENT .ipynb",
      "provenance": [],
      "collapsed_sections": [],
      "authorship_tag": "ABX9TyNCMDjF8OhnBBjL7QIZ7GzK",
      "include_colab_link": true
    },
    "kernelspec": {
      "name": "python3",
      "display_name": "Python 3"
    },
    "language_info": {
      "name": "python"
    }
  },
  "cells": [
    {
      "cell_type": "markdown",
      "metadata": {
        "id": "view-in-github",
        "colab_type": "text"
      },
      "source": [
        "<a href=\"https://colab.research.google.com/github/digipodium/git-github-fundamentals-mallikam07/blob/first-draft-content/ASSINGMENT_.ipynb\" target=\"_parent\"><img src=\"https://colab.research.google.com/assets/colab-badge.svg\" alt=\"Open In Colab\"/></a>"
      ]
    },
    {
      "cell_type": "code",
      "metadata": {
        "colab": {
          "base_uri": "https://localhost:8080/"
        },
        "id": "OsPQR3lcfFlQ",
        "outputId": "c007ee5e-6228-471e-846e-b9f668ef23d2"
      },
      "source": [
        "x =\"5\"\n",
        "y = 5\n",
        "x ==y"
      ],
      "execution_count": null,
      "outputs": [
        {
          "output_type": "execute_result",
          "data": {
            "text/plain": [
              "False"
            ]
          },
          "metadata": {
            "tags": []
          },
          "execution_count": 4
        }
      ]
    },
    {
      "cell_type": "code",
      "metadata": {
        "colab": {
          "base_uri": "https://localhost:8080/"
        },
        "id": "ew7SdAoZfZsh",
        "outputId": "69f3fdac-639e-4209-b37b-d76575baff4f"
      },
      "source": [
        "fruits =\"banana,apple,pear\"\n",
        "fruitlist = fruits.split()\n",
        "fruitlist"
      ],
      "execution_count": null,
      "outputs": [
        {
          "output_type": "execute_result",
          "data": {
            "text/plain": [
              "['banana,apple,pear']"
            ]
          },
          "metadata": {
            "tags": []
          },
          "execution_count": 13
        }
      ]
    },
    {
      "cell_type": "code",
      "metadata": {
        "colab": {
          "base_uri": "https://localhost:8080/"
        },
        "id": "59Tjhhuefqm6",
        "outputId": "2e5a49ab-4763-418b-b9de-1162e9c2a60d"
      },
      "source": [
        "fruits = [\"banana\",\"apple\",\"pear\"]\n",
        "if fruits :\n",
        "        print(f'we have len(f)fruits')"
      ],
      "execution_count": null,
      "outputs": [
        {
          "output_type": "stream",
          "text": [
            "we have len(f)fruits\n"
          ],
          "name": "stdout"
        }
      ]
    },
    {
      "cell_type": "code",
      "metadata": {
        "colab": {
          "base_uri": "https://localhost:8080/"
        },
        "id": "LLE-HfDohX-A",
        "outputId": "487089e4-d61d-4f2c-81da-3463f2261ea2"
      },
      "source": [
        "quotestring = input()\n",
        "quotelist = quotestring.split()\n",
        "print(quotelist)\n"
      ],
      "execution_count": null,
      "outputs": [
        {
          "output_type": "stream",
          "text": [
            "A computer would be called as intelligent if it could deceive a human it being a human \n",
            "['A', 'computer', 'would', 'be', 'called', 'as', 'intelligent', 'if', 'it', 'could', 'deceive', 'a', 'human', 'it', 'being', 'a', 'human']\n"
          ],
          "name": "stdout"
        }
      ]
    },
    {
      "cell_type": "code",
      "metadata": {
        "colab": {
          "base_uri": "https://localhost:8080/"
        },
        "id": "prYQvMIdjZNX",
        "outputId": "1a0c1e07-eabe-400b-c49b-bcb9ac5b3c53"
      },
      "source": [
        "quotelist"
      ],
      "execution_count": null,
      "outputs": [
        {
          "output_type": "execute_result",
          "data": {
            "text/plain": [
              "['A',\n",
              " 'computer',\n",
              " 'would',\n",
              " 'be',\n",
              " 'called',\n",
              " 'as',\n",
              " 'intelligent',\n",
              " 'if',\n",
              " 'it',\n",
              " 'could',\n",
              " 'deceive',\n",
              " 'a',\n",
              " 'human',\n",
              " 'it',\n",
              " 'being',\n",
              " 'a',\n",
              " 'human']"
            ]
          },
          "metadata": {
            "tags": []
          },
          "execution_count": 24
        }
      ]
    },
    {
      "cell_type": "code",
      "metadata": {
        "colab": {
          "base_uri": "https://localhost:8080/"
        },
        "id": "BXJjsGVYiZAX",
        "outputId": "5bf8e96d-3fb2-4b76-b2fb-228e836b2f62"
      },
      "source": [
        "\n",
        "nooftwoletterwords=0\n",
        "for word in quotelist:\n",
        "  if len(word)== 2:\n",
        "    nooftwoletterwords+=1\n",
        "print(nooftwoletterwords==5)"
      ],
      "execution_count": null,
      "outputs": [
        {
          "output_type": "stream",
          "text": [
            "True\n"
          ],
          "name": "stdout"
        }
      ]
    },
    {
      "cell_type": "code",
      "metadata": {
        "colab": {
          "base_uri": "https://localhost:8080/"
        },
        "id": "eYaNlDC1jtEN",
        "outputId": "0024aae6-ec40-4a38-ef10-37ec97bc9e52"
      },
      "source": [
        "fruitlist = ['banana','apple','pear']\n",
        "delimeter =\",\"\n",
        "fruitstring = delimeter.join(fruitlist)\n",
        "print(fruitstring)\n",
        "\n"
      ],
      "execution_count": null,
      "outputs": [
        {
          "output_type": "stream",
          "text": [
            "banana,apple,pear\n"
          ],
          "name": "stdout"
        }
      ]
    },
    {
      "cell_type": "code",
      "metadata": {
        "colab": {
          "base_uri": "https://localhost:8080/"
        },
        "id": "FPK9zP9XkxLF",
        "outputId": "569652ea-86eb-4092-f5f4-f7276646f0fa"
      },
      "source": [
        "text = input()\n",
        "found = text.find(\"security\")\n",
        "if i == -1:\n",
        "  print(\"no security found!:\")\n",
        "else :\n",
        "  print(\"security found at position\", str(found))\n"
      ],
      "execution_count": null,
      "outputs": [
        {
          "output_type": "stream",
          "text": [
            "We search for security all the time and hate it when we get it\n",
            "security found at position 14\n"
          ],
          "name": "stdout"
        }
      ]
    },
    {
      "cell_type": "code",
      "metadata": {
        "colab": {
          "base_uri": "https://localhost:8080/"
        },
        "id": "bqPWlRJfnPhg",
        "outputId": "e290a164-87de-4b8e-c210-d2ed3b7c0c78"
      },
      "source": [
        "text = \"You cannot compare apples and pears\"\n",
        "text = text.replace(\"pears\",\"apples\")\n",
        "text = text.replace(\"not\",\"\")\n",
        "print(text)\n"
      ],
      "execution_count": null,
      "outputs": [
        {
          "output_type": "stream",
          "text": [
            "You can compare apples and apples\n"
          ],
          "name": "stdout"
        }
      ]
    },
    {
      "cell_type": "code",
      "metadata": {
        "colab": {
          "base_uri": "https://localhost:8080/"
        },
        "id": "lF5qhnptoara",
        "outputId": "1427a3d4-ed15-425b-809a-722eaddf5202"
      },
      "source": [
        "text = input()\n",
        "for vowel in \"aeiou\":\n",
        "  text = text.replace(vowel,\"\")\n",
        "print(text)\n",
        "\n"
      ],
      "execution_count": null,
      "outputs": [
        {
          "output_type": "stream",
          "text": [
            "Research has proved that it is possible to read text without vowel\n",
            "Rsrch hs prvd tht t s pssbl t rd txt wtht vwl\n"
          ],
          "name": "stdout"
        }
      ]
    },
    {
      "cell_type": "code",
      "metadata": {
        "colab": {
          "base_uri": "https://localhost:8080/"
        },
        "id": "sIOCA8vepElw",
        "outputId": "8c288fb2-03ab-4818-88cf-175053e94326"
      },
      "source": [
        "s = \" strip me!    \"\n",
        "print(s.strip())\n"
      ],
      "execution_count": null,
      "outputs": [
        {
          "output_type": "stream",
          "text": [
            "strip me!\n"
          ],
          "name": "stdout"
        }
      ]
    },
    {
      "cell_type": "code",
      "metadata": {
        "colab": {
          "base_uri": "https://localhost:8080/"
        },
        "id": "BMgn-Td3J3ao",
        "outputId": "d06bc7af-c9ae-4a4d-aa77-c95c00e939c1"
      },
      "source": [
        "teachers = \"Folgert Karsdorp and Marteen van Gompel \" \n",
        "print(teachers.lower())\n",
        "print(teachers.upper())"
      ],
      "execution_count": null,
      "outputs": [
        {
          "output_type": "stream",
          "text": [
            "folgert karsdorp and marteen van gompel \n",
            "FOLGERT KARSDORP AND MARTEEN VAN GOMPEL \n"
          ],
          "name": "stdout"
        }
      ]
    },
    {
      "cell_type": "code",
      "metadata": {
        "id": "N2hi3IjwU8RN"
      },
      "source": [
        "words = ['bla']"
      ],
      "execution_count": null,
      "outputs": []
    }
  ]
}